{
 "cells": [
  {
   "cell_type": "code",
   "execution_count": 77,
   "metadata": {},
   "outputs": [
    {
     "data": {
      "image/png": "[encoded data removed]",
      "text/plain": [
       "<Figure size 432x288 with 1 Axes>"
      ]
     },
     "metadata": {
      "needs_background": "light"
     },
     "output_type": "display_data"
    }
   ],
   "source": [
    "import sqlite3\n",
    "import pandas as pd\n",
    "import matplotlib.pyplot as plt\n",
    "\n",
    "connection = sqlite3.connect('chinook.db')\n",
    "\n",
    "find_invoices = '''\n",
    "SELECT InvoiceDate,Total\n",
    "FROM invoices \n",
    "WHERE InvoiceDate \n",
    "BETWEEN '2009-02-01 00:00:00' AND '2009-06-31 00:00:00';\n",
    "'''\n",
    "bulan = ['Januari','Febuari','Maret','April','Mei','Juni','July']\n",
    "\n",
    "cursor = connection.cursor()\n",
    "cursor.execute(find_invoices)\n",
    "\n",
    "invoices = cursor.fetchall()\n",
    "\n",
    "def match_month(date):\n",
    "    date_arr = date.split(\"-\")\n",
    "    month_num = int(date_arr[1])\n",
    "    return bulan[month_num-1]\n",
    "\n",
    "\n",
    "date = [data[0] for data in invoices]\n",
    "total = [data[1] for data in invoices]\n",
    "\n",
    "invoice_data = pd.DataFrame({'date': date, 'total': total})\n",
    "invoice_data[\"bulan\"] = [match_month(date) for date in invoice_data[\"date\"]]\n",
    "invoice_data_bulan = invoice_data.groupby([\"bulan\"]).sum()\n",
    "invoice_data_final = pd.DataFrame(invoice_data_bulan.reindex(bulan).dropna())[\"total\"]\n",
    "\n",
    "bulan=invoice_data_final.index.get_level_values(0).tolist()\n",
    "total = [t for t in invoice_data_final]\n",
    "\n",
    "plt.bar(bulan,total)\n",
    "\n",
    "connection.commit()\n",
    "cursor.close()\n",
    "connection.close()"
   ]
  },
  {
   "cell_type": "markdown",
   "metadata": {},
   "source": [
    "# Kesimpulan\n",
    "\n",
    "Semua Penjualan memiliki total yang sama tiap bulannya "
   ]
  },
  {
   "cell_type": "code",
   "execution_count": null,
   "metadata": {},
   "outputs": [],
   "source": []
  }
 ],
 "metadata": {
  "kernelspec": {
   "display_name": "Python 3",
   "language": "python",
   "name": "python3"
  },
  "language_info": {
   "codemirror_mode": {
    "name": "ipython",
    "version": 3
   },
   "file_extension": ".py",
   "mimetype": "text/x-python",
   "name": "python",
   "nbconvert_exporter": "python",
   "pygments_lexer": "ipython3",
   "version": "3.7.7"
  }
 },
 "nbformat": 4,
 "nbformat_minor": 4
}
